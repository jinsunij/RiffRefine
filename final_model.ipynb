{
 "cells": [
  {
   "cell_type": "code",
   "execution_count": 1,
   "metadata": {},
   "outputs": [],
   "source": [
    "# import libraries\n",
    "\n",
    "import os\n",
    "\n",
    "import IPython.display as ipd\n",
    "import numpy as np\n",
    "import pandas as pd\n",
    "import matplotlib.pyplot as plt\n",
    "import seaborn as sns\n",
    "import sklearn as skl\n",
    "import sklearn.utils, sklearn.preprocessing, sklearn.decomposition, sklearn.svm\n",
    "import librosa\n",
    "import librosa.display\n",
    "import joblib\n",
    "\n",
    "from sklearn.preprocessing import LabelEncoder, StandardScaler\n",
    "from sklearn.preprocessing import OneHotEncoder, StandardScaler\n",
    "from sklearn.impute import SimpleImputer\n",
    "from sklearn.model_selection import train_test_split, cross_val_score, GridSearchCV\n",
    "from sklearn.metrics import confusion_matrix, cohen_kappa_score, make_scorer\n",
    "from sklearn.tree import DecisionTreeClassifier\n",
    "from sklearn.ensemble import RandomForestClassifier, GradientBoostingClassifier, AdaBoostClassifier\n",
    "from sklearn.svm import SVC\n",
    "from sklearn.model_selection import cross_val_predict\n",
    "\n",
    "from xgboost import XGBClassifier, plot_importance\n",
    "\n",
    "RSEED=42"
   ]
  },
  {
   "cell_type": "code",
   "execution_count": 2,
   "metadata": {},
   "outputs": [
    {
     "data": {
      "text/html": [
       "<div>\n",
       "<style scoped>\n",
       "    .dataframe tbody tr th:only-of-type {\n",
       "        vertical-align: middle;\n",
       "    }\n",
       "\n",
       "    .dataframe tbody tr th {\n",
       "        vertical-align: top;\n",
       "    }\n",
       "\n",
       "    .dataframe thead th {\n",
       "        text-align: right;\n",
       "    }\n",
       "</style>\n",
       "<table border=\"1\" class=\"dataframe\">\n",
       "  <thead>\n",
       "    <tr style=\"text-align: right;\">\n",
       "      <th></th>\n",
       "      <th>Unnamed: 0</th>\n",
       "      <th>track_id</th>\n",
       "      <th>album_comments</th>\n",
       "      <th>album_date_created</th>\n",
       "      <th>album_favorites</th>\n",
       "      <th>album_id</th>\n",
       "      <th>album_listens</th>\n",
       "      <th>album_title</th>\n",
       "      <th>album_tracks</th>\n",
       "      <th>album_type</th>\n",
       "      <th>...</th>\n",
       "      <th>artist_bio_bin</th>\n",
       "      <th>months_life</th>\n",
       "      <th>listens_month</th>\n",
       "      <th>bonus_listens</th>\n",
       "      <th>listens_incl_bonus</th>\n",
       "      <th>listens_bins</th>\n",
       "      <th>genre_pred</th>\n",
       "      <th>number_of_genres</th>\n",
       "      <th>number_of_genres_bins</th>\n",
       "      <th>license_category</th>\n",
       "    </tr>\n",
       "  </thead>\n",
       "  <tbody>\n",
       "    <tr>\n",
       "      <th>0</th>\n",
       "      <td>0</td>\n",
       "      <td>2</td>\n",
       "      <td>0</td>\n",
       "      <td>2008-11-26 01:44:45</td>\n",
       "      <td>4</td>\n",
       "      <td>1</td>\n",
       "      <td>6073</td>\n",
       "      <td>AWOL - A Way Of Life</td>\n",
       "      <td>7</td>\n",
       "      <td>Album</td>\n",
       "      <td>...</td>\n",
       "      <td>1</td>\n",
       "      <td>101</td>\n",
       "      <td>12.801980</td>\n",
       "      <td>0.0</td>\n",
       "      <td>1293.0</td>\n",
       "      <td>0</td>\n",
       "      <td>1</td>\n",
       "      <td>4</td>\n",
       "      <td>(0.0, 4.0]</td>\n",
       "      <td>3</td>\n",
       "    </tr>\n",
       "    <tr>\n",
       "      <th>1</th>\n",
       "      <td>1</td>\n",
       "      <td>5</td>\n",
       "      <td>0</td>\n",
       "      <td>2008-11-26 01:44:45</td>\n",
       "      <td>4</td>\n",
       "      <td>1</td>\n",
       "      <td>6073</td>\n",
       "      <td>AWOL - A Way Of Life</td>\n",
       "      <td>7</td>\n",
       "      <td>Album</td>\n",
       "      <td>...</td>\n",
       "      <td>1</td>\n",
       "      <td>101</td>\n",
       "      <td>11.396040</td>\n",
       "      <td>0.0</td>\n",
       "      <td>1151.0</td>\n",
       "      <td>-1</td>\n",
       "      <td>1</td>\n",
       "      <td>4</td>\n",
       "      <td>(0.0, 4.0]</td>\n",
       "      <td>3</td>\n",
       "    </tr>\n",
       "    <tr>\n",
       "      <th>2</th>\n",
       "      <td>2</td>\n",
       "      <td>10</td>\n",
       "      <td>0</td>\n",
       "      <td>2008-11-26 01:45:08</td>\n",
       "      <td>4</td>\n",
       "      <td>6</td>\n",
       "      <td>47632</td>\n",
       "      <td>Constant Hitmaker</td>\n",
       "      <td>2</td>\n",
       "      <td>Album</td>\n",
       "      <td>...</td>\n",
       "      <td>1</td>\n",
       "      <td>101</td>\n",
       "      <td>496.386139</td>\n",
       "      <td>0.0</td>\n",
       "      <td>50135.0</td>\n",
       "      <td>2</td>\n",
       "      <td>1</td>\n",
       "      <td>4</td>\n",
       "      <td>(0.0, 4.0]</td>\n",
       "      <td>4</td>\n",
       "    </tr>\n",
       "    <tr>\n",
       "      <th>3</th>\n",
       "      <td>3</td>\n",
       "      <td>140</td>\n",
       "      <td>1</td>\n",
       "      <td>2008-11-26 01:49:59</td>\n",
       "      <td>1</td>\n",
       "      <td>61</td>\n",
       "      <td>1300</td>\n",
       "      <td>The Blind Spot</td>\n",
       "      <td>1</td>\n",
       "      <td>Album</td>\n",
       "      <td>...</td>\n",
       "      <td>1</td>\n",
       "      <td>101</td>\n",
       "      <td>12.861386</td>\n",
       "      <td>0.0</td>\n",
       "      <td>1299.0</td>\n",
       "      <td>0</td>\n",
       "      <td>1</td>\n",
       "      <td>4</td>\n",
       "      <td>(0.0, 4.0]</td>\n",
       "      <td>1</td>\n",
       "    </tr>\n",
       "    <tr>\n",
       "      <th>4</th>\n",
       "      <td>4</td>\n",
       "      <td>141</td>\n",
       "      <td>0</td>\n",
       "      <td>2008-11-26 01:49:57</td>\n",
       "      <td>1</td>\n",
       "      <td>60</td>\n",
       "      <td>1304</td>\n",
       "      <td>Every Man For Himself</td>\n",
       "      <td>2</td>\n",
       "      <td>Album</td>\n",
       "      <td>...</td>\n",
       "      <td>1</td>\n",
       "      <td>101</td>\n",
       "      <td>7.178218</td>\n",
       "      <td>0.0</td>\n",
       "      <td>725.0</td>\n",
       "      <td>-1</td>\n",
       "      <td>1</td>\n",
       "      <td>4</td>\n",
       "      <td>(0.0, 4.0]</td>\n",
       "      <td>1</td>\n",
       "    </tr>\n",
       "  </tbody>\n",
       "</table>\n",
       "<p>5 rows × 563 columns</p>\n",
       "</div>"
      ],
      "text/plain": [
       "   Unnamed: 0  track_id  album_comments   album_date_created  album_favorites  \\\n",
       "0           0         2               0  2008-11-26 01:44:45                4   \n",
       "1           1         5               0  2008-11-26 01:44:45                4   \n",
       "2           2        10               0  2008-11-26 01:45:08                4   \n",
       "3           3       140               1  2008-11-26 01:49:59                1   \n",
       "4           4       141               0  2008-11-26 01:49:57                1   \n",
       "\n",
       "   album_id  album_listens            album_title  album_tracks album_type  \\\n",
       "0         1           6073   AWOL - A Way Of Life             7      Album   \n",
       "1         1           6073   AWOL - A Way Of Life             7      Album   \n",
       "2         6          47632      Constant Hitmaker             2      Album   \n",
       "3        61           1300         The Blind Spot             1      Album   \n",
       "4        60           1304  Every Man For Himself             2      Album   \n",
       "\n",
       "   ...  artist_bio_bin months_life  listens_month  bonus_listens  \\\n",
       "0  ...               1         101      12.801980            0.0   \n",
       "1  ...               1         101      11.396040            0.0   \n",
       "2  ...               1         101     496.386139            0.0   \n",
       "3  ...               1         101      12.861386            0.0   \n",
       "4  ...               1         101       7.178218            0.0   \n",
       "\n",
       "  listens_incl_bonus listens_bins genre_pred number_of_genres  \\\n",
       "0             1293.0            0          1                4   \n",
       "1             1151.0           -1          1                4   \n",
       "2            50135.0            2          1                4   \n",
       "3             1299.0            0          1                4   \n",
       "4              725.0           -1          1                4   \n",
       "\n",
       "   number_of_genres_bins  license_category  \n",
       "0             (0.0, 4.0]                 3  \n",
       "1             (0.0, 4.0]                 3  \n",
       "2             (0.0, 4.0]                 4  \n",
       "3             (0.0, 4.0]                 1  \n",
       "4             (0.0, 4.0]                 1  \n",
       "\n",
       "[5 rows x 563 columns]"
      ]
     },
     "execution_count": 2,
     "metadata": {},
     "output_type": "execute_result"
    }
   ],
   "source": [
    "# read data\n",
    "df=pd.read_csv('data/data_with_target.csv')\n",
    "df.head()\n"
   ]
  },
  {
   "cell_type": "code",
   "execution_count": 3,
   "metadata": {},
   "outputs": [
    {
     "data": {
      "text/plain": [
       "array([ 0, -1,  2,  1])"
      ]
     },
     "execution_count": 3,
     "metadata": {},
     "output_type": "execute_result"
    }
   ],
   "source": [
    "df.listens_bins.unique()"
   ]
  },
  {
   "cell_type": "code",
   "execution_count": 4,
   "metadata": {},
   "outputs": [],
   "source": [
    "#feature engineering\n",
    "def limit_elements(lst):\n",
    "    if len(lst) > 15:\n",
    "        return 16\n",
    "    else:\n",
    "        return len(lst)\n",
    "    \n",
    "df['number_of_genres'] = df['track_genres'].apply(limit_elements)\n",
    "\n",
    "df['number_of_genres_bins'] = pd.cut(df['number_of_genres'], bins=[0, 4, 8, 10, float('inf')], right=True)\n",
    "\n"
   ]
  },
  {
   "cell_type": "code",
   "execution_count": 5,
   "metadata": {},
   "outputs": [
    {
     "data": {
      "text/plain": [
       "listens_bins\n",
       "1    2054\n",
       "2    2053\n",
       "3    1960\n",
       "0    1933\n",
       "Name: count, dtype: int64"
      ]
     },
     "execution_count": 5,
     "metadata": {},
     "output_type": "execute_result"
    }
   ],
   "source": [
    "df['listens_bins']=df['listens_bins']+1\n",
    "df['listens_bins'].value_counts()"
   ]
  },
  {
   "cell_type": "code",
   "execution_count": 6,
   "metadata": {},
   "outputs": [],
   "source": [
    "# feature engineering\n",
    "\n",
    "def categorize_license(license):\n",
    "    if \"Public Domain\" in license or \"CC0\" in license:\n",
    "        return 1  # allows everything\n",
    "    elif \"NoDerivatives\" in license and \"NonCommercial\" in license:\n",
    "        return 4  \n",
    "    elif \"NonCommercial\" in license:\n",
    "        return 3  \n",
    "    elif \"Share Alike\" in license:\n",
    "        return 2  \n",
    "    else:\n",
    "        return 1  \n",
    "    \n",
    "df['license_category'] = df['track_license'].apply(categorize_license)\n",
    "\n"
   ]
  },
  {
   "cell_type": "code",
   "execution_count": 7,
   "metadata": {},
   "outputs": [],
   "source": [
    "df['license_category'] = df['license_category'].astype('category')\n",
    "df['track_genre_top'] = df['track_genre_top'].astype('category')\n",
    "df['number_of_genres_bins'] = df['number_of_genres_bins'].astype('category')"
   ]
  },
  {
   "cell_type": "code",
   "execution_count": 8,
   "metadata": {},
   "outputs": [],
   "source": [
    "df.to_csv('data/data_with_target.csv', index=False)"
   ]
  },
  {
   "cell_type": "code",
   "execution_count": 9,
   "metadata": {},
   "outputs": [
    {
     "name": "stdout",
     "output_type": "stream",
     "text": [
      "We have 8000 observations in our dataset and 12 features\n",
      "Our target vector has also 8000 values\n"
     ]
    }
   ],
   "source": [
    "# Define predictors and target variable\n",
    "\n",
    "X = df[['track_genre_top','track_bit_rate','track_duration','album_information_bin','album_tracks','artist_bio_bin','track_title_char_count','track_number','license_category','other_website','soundcloud_website','number_of_genres_bins']]\n",
    "y = df['listens_bins']\n",
    "print(f\"We have {X.shape[0]} observations in our dataset and {X.shape[1]} features\")\n",
    "print(f\"Our target vector has also {y.shape[0]} values\")\n"
   ]
  },
  {
   "cell_type": "code",
   "execution_count": 10,
   "metadata": {},
   "outputs": [
    {
     "data": {
      "text/plain": [
       "0       1\n",
       "1       0\n",
       "2       3\n",
       "3       1\n",
       "4       0\n",
       "       ..\n",
       "7995    3\n",
       "7996    3\n",
       "7997    1\n",
       "7998    1\n",
       "7999    2\n",
       "Name: listens_bins, Length: 8000, dtype: int64"
      ]
     },
     "execution_count": 10,
     "metadata": {},
     "output_type": "execute_result"
    }
   ],
   "source": [
    "y"
   ]
  },
  {
   "cell_type": "code",
   "execution_count": 11,
   "metadata": {},
   "outputs": [
    {
     "name": "stdout",
     "output_type": "stream",
     "text": [
      "<class 'pandas.core.frame.DataFrame'>\n",
      "RangeIndex: 8000 entries, 0 to 7999\n",
      "Data columns (total 12 columns):\n",
      " #   Column                  Non-Null Count  Dtype   \n",
      "---  ------                  --------------  -----   \n",
      " 0   track_genre_top         8000 non-null   category\n",
      " 1   track_bit_rate          8000 non-null   int64   \n",
      " 2   track_duration          8000 non-null   int64   \n",
      " 3   album_information_bin   8000 non-null   int64   \n",
      " 4   album_tracks            8000 non-null   int64   \n",
      " 5   artist_bio_bin          8000 non-null   int64   \n",
      " 6   track_title_char_count  8000 non-null   int64   \n",
      " 7   track_number            8000 non-null   int64   \n",
      " 8   license_category        8000 non-null   category\n",
      " 9   other_website           8000 non-null   bool    \n",
      " 10  soundcloud_website      8000 non-null   bool    \n",
      " 11  number_of_genres_bins   8000 non-null   category\n",
      "dtypes: bool(2), category(3), int64(7)\n",
      "memory usage: 477.5 KB\n"
     ]
    }
   ],
   "source": [
    "X.info()"
   ]
  },
  {
   "cell_type": "code",
   "execution_count": 12,
   "metadata": {},
   "outputs": [
    {
     "name": "stdout",
     "output_type": "stream",
     "text": [
      "X_train shape: (6400, 12)\n",
      "X_test shape: (1600, 12)\n",
      "y_train shape: (6400,)\n",
      "y_test shape: (1600,)\n",
      "<class 'pandas.core.frame.DataFrame'>\n",
      "Index: 6400 entries, 1467 to 7270\n",
      "Data columns (total 12 columns):\n",
      " #   Column                  Non-Null Count  Dtype   \n",
      "---  ------                  --------------  -----   \n",
      " 0   track_genre_top         6400 non-null   category\n",
      " 1   track_bit_rate          6400 non-null   int64   \n",
      " 2   track_duration          6400 non-null   int64   \n",
      " 3   album_information_bin   6400 non-null   int64   \n",
      " 4   album_tracks            6400 non-null   int64   \n",
      " 5   artist_bio_bin          6400 non-null   int64   \n",
      " 6   track_title_char_count  6400 non-null   int64   \n",
      " 7   track_number            6400 non-null   int64   \n",
      " 8   license_category        6400 non-null   category\n",
      " 9   other_website           6400 non-null   bool    \n",
      " 10  soundcloud_website      6400 non-null   bool    \n",
      " 11  number_of_genres_bins   6400 non-null   category\n",
      "dtypes: bool(2), category(3), int64(7)\n",
      "memory usage: 432.0 KB\n"
     ]
    }
   ],
   "source": [
    "# Split into train and test set \n",
    "X_train, X_test, y_train, y_test = train_test_split(X, y, test_size=0.2, random_state=RSEED)\n",
    "print('X_train shape:', X_train.shape)\n",
    "print('X_test shape:', X_test.shape)\n",
    "print('y_train shape:', y_train.shape)\n",
    "print('y_test shape:', y_test.shape)\n",
    "pd.set_option('display.max_columns', 600)\n",
    "X_train.info()"
   ]
  },
  {
   "cell_type": "code",
   "execution_count": 13,
   "metadata": {},
   "outputs": [
    {
     "data": {
      "text/html": [
       "<style>#sk-container-id-1 {color: black;}#sk-container-id-1 pre{padding: 0;}#sk-container-id-1 div.sk-toggleable {background-color: white;}#sk-container-id-1 label.sk-toggleable__label {cursor: pointer;display: block;width: 100%;margin-bottom: 0;padding: 0.3em;box-sizing: border-box;text-align: center;}#sk-container-id-1 label.sk-toggleable__label-arrow:before {content: \"▸\";float: left;margin-right: 0.25em;color: #696969;}#sk-container-id-1 label.sk-toggleable__label-arrow:hover:before {color: black;}#sk-container-id-1 div.sk-estimator:hover label.sk-toggleable__label-arrow:before {color: black;}#sk-container-id-1 div.sk-toggleable__content {max-height: 0;max-width: 0;overflow: hidden;text-align: left;background-color: #f0f8ff;}#sk-container-id-1 div.sk-toggleable__content pre {margin: 0.2em;color: black;border-radius: 0.25em;background-color: #f0f8ff;}#sk-container-id-1 input.sk-toggleable__control:checked~div.sk-toggleable__content {max-height: 200px;max-width: 100%;overflow: auto;}#sk-container-id-1 input.sk-toggleable__control:checked~label.sk-toggleable__label-arrow:before {content: \"▾\";}#sk-container-id-1 div.sk-estimator input.sk-toggleable__control:checked~label.sk-toggleable__label {background-color: #d4ebff;}#sk-container-id-1 div.sk-label input.sk-toggleable__control:checked~label.sk-toggleable__label {background-color: #d4ebff;}#sk-container-id-1 input.sk-hidden--visually {border: 0;clip: rect(1px 1px 1px 1px);clip: rect(1px, 1px, 1px, 1px);height: 1px;margin: -1px;overflow: hidden;padding: 0;position: absolute;width: 1px;}#sk-container-id-1 div.sk-estimator {font-family: monospace;background-color: #f0f8ff;border: 1px dotted black;border-radius: 0.25em;box-sizing: border-box;margin-bottom: 0.5em;}#sk-container-id-1 div.sk-estimator:hover {background-color: #d4ebff;}#sk-container-id-1 div.sk-parallel-item::after {content: \"\";width: 100%;border-bottom: 1px solid gray;flex-grow: 1;}#sk-container-id-1 div.sk-label:hover label.sk-toggleable__label {background-color: #d4ebff;}#sk-container-id-1 div.sk-serial::before {content: \"\";position: absolute;border-left: 1px solid gray;box-sizing: border-box;top: 0;bottom: 0;left: 50%;z-index: 0;}#sk-container-id-1 div.sk-serial {display: flex;flex-direction: column;align-items: center;background-color: white;padding-right: 0.2em;padding-left: 0.2em;position: relative;}#sk-container-id-1 div.sk-item {position: relative;z-index: 1;}#sk-container-id-1 div.sk-parallel {display: flex;align-items: stretch;justify-content: center;background-color: white;position: relative;}#sk-container-id-1 div.sk-item::before, #sk-container-id-1 div.sk-parallel-item::before {content: \"\";position: absolute;border-left: 1px solid gray;box-sizing: border-box;top: 0;bottom: 0;left: 50%;z-index: -1;}#sk-container-id-1 div.sk-parallel-item {display: flex;flex-direction: column;z-index: 1;position: relative;background-color: white;}#sk-container-id-1 div.sk-parallel-item:first-child::after {align-self: flex-end;width: 50%;}#sk-container-id-1 div.sk-parallel-item:last-child::after {align-self: flex-start;width: 50%;}#sk-container-id-1 div.sk-parallel-item:only-child::after {width: 0;}#sk-container-id-1 div.sk-dashed-wrapped {border: 1px dashed gray;margin: 0 0.4em 0.5em 0.4em;box-sizing: border-box;padding-bottom: 0.4em;background-color: white;}#sk-container-id-1 div.sk-label label {font-family: monospace;font-weight: bold;display: inline-block;line-height: 1.2em;}#sk-container-id-1 div.sk-label-container {text-align: center;}#sk-container-id-1 div.sk-container {/* jupyter's `normalize.less` sets `[hidden] { display: none; }` but bootstrap.min.css set `[hidden] { display: none !important; }` so we also need the `!important` here to be able to override the default hidden behavior on the sphinx rendered scikit-learn.org. See: https://github.com/scikit-learn/scikit-learn/issues/21755 */display: inline-block !important;position: relative;}#sk-container-id-1 div.sk-text-repr-fallback {display: none;}</style><div id=\"sk-container-id-1\" class=\"sk-top-container\"><div class=\"sk-text-repr-fallback\"><pre>XGBClassifier(base_score=None, booster=None, callbacks=None,\n",
       "              colsample_bylevel=None, colsample_bynode=None,\n",
       "              colsample_bytree=None, device=None, early_stopping_rounds=None,\n",
       "              enable_categorical=True, eval_metric=None, feature_types=None,\n",
       "              gamma=1.0, grow_policy=None, importance_type=None,\n",
       "              interaction_constraints=None, learning_rate=0.2, max_bin=None,\n",
       "              max_cat_threshold=None, max_cat_to_onehot=None,\n",
       "              max_delta_step=None, max_depth=15, max_leaves=None,\n",
       "              min_child_weight=None, missing=nan, monotone_constraints=None,\n",
       "              multi_strategy=None, n_estimators=60, n_jobs=None,\n",
       "              num_parallel_tree=None, objective=&#x27;multi:softprob&#x27;, ...)</pre><b>In a Jupyter environment, please rerun this cell to show the HTML representation or trust the notebook. <br />On GitHub, the HTML representation is unable to render, please try loading this page with nbviewer.org.</b></div><div class=\"sk-container\" hidden><div class=\"sk-item\"><div class=\"sk-estimator sk-toggleable\"><input class=\"sk-toggleable__control sk-hidden--visually\" id=\"sk-estimator-id-1\" type=\"checkbox\" checked><label for=\"sk-estimator-id-1\" class=\"sk-toggleable__label sk-toggleable__label-arrow\">XGBClassifier</label><div class=\"sk-toggleable__content\"><pre>XGBClassifier(base_score=None, booster=None, callbacks=None,\n",
       "              colsample_bylevel=None, colsample_bynode=None,\n",
       "              colsample_bytree=None, device=None, early_stopping_rounds=None,\n",
       "              enable_categorical=True, eval_metric=None, feature_types=None,\n",
       "              gamma=1.0, grow_policy=None, importance_type=None,\n",
       "              interaction_constraints=None, learning_rate=0.2, max_bin=None,\n",
       "              max_cat_threshold=None, max_cat_to_onehot=None,\n",
       "              max_delta_step=None, max_depth=15, max_leaves=None,\n",
       "              min_child_weight=None, missing=nan, monotone_constraints=None,\n",
       "              multi_strategy=None, n_estimators=60, n_jobs=None,\n",
       "              num_parallel_tree=None, objective=&#x27;multi:softprob&#x27;, ...)</pre></div></div></div></div></div>"
      ],
      "text/plain": [
       "XGBClassifier(base_score=None, booster=None, callbacks=None,\n",
       "              colsample_bylevel=None, colsample_bynode=None,\n",
       "              colsample_bytree=None, device=None, early_stopping_rounds=None,\n",
       "              enable_categorical=True, eval_metric=None, feature_types=None,\n",
       "              gamma=1.0, grow_policy=None, importance_type=None,\n",
       "              interaction_constraints=None, learning_rate=0.2, max_bin=None,\n",
       "              max_cat_threshold=None, max_cat_to_onehot=None,\n",
       "              max_delta_step=None, max_depth=15, max_leaves=None,\n",
       "              min_child_weight=None, missing=nan, monotone_constraints=None,\n",
       "              multi_strategy=None, n_estimators=60, n_jobs=None,\n",
       "              num_parallel_tree=None, objective='multi:softprob', ...)"
      ]
     },
     "execution_count": 13,
     "metadata": {},
     "output_type": "execute_result"
    }
   ],
   "source": [
    "xgb = XGBClassifier(random_state=RSEED, tree_method=\"hist\", enable_categorical=True, use_label_encoder=False,max_depth=15,gamma=1.0,learning_rate=0.2,n_estimators=60)\n",
    "xgb.fit(X_train, y_train)\n"
   ]
  },
  {
   "cell_type": "code",
   "execution_count": 14,
   "metadata": {},
   "outputs": [],
   "source": [
    "with open('final_model.pkl', 'wb') as file:\n",
    "    joblib.dump(xgb, file)\n",
    "\n",
    "with open('final_model.pkl', 'rb') as file:\n",
    "    loaded_xgb = joblib.load(file)"
   ]
  },
  {
   "cell_type": "code",
   "execution_count": 15,
   "metadata": {},
   "outputs": [],
   "source": [
    "y_train_pred_xgb = xgb.predict(X_train)\n",
    "y_test_pred_xgb = xgb.predict(X_test)"
   ]
  },
  {
   "cell_type": "code",
   "execution_count": 16,
   "metadata": {},
   "outputs": [
    {
     "name": "stdout",
     "output_type": "stream",
     "text": [
      "82.7\n",
      "13.2\n",
      "3.3\n",
      "0.8\n",
      "--------------------------------\n",
      "0.825\n"
     ]
    }
   ],
   "source": [
    "conf_matrix= confusion_matrix(y_train, y_train_pred_xgb)\n",
    "accurate_classes = sum([conf_matrix[i][i] for i in range(len(conf_matrix))])\n",
    "off_by_one = sum([conf_matrix[i][j] if abs(i - j) == 1 else 0 for i in range(len(conf_matrix)) for j in range(len(conf_matrix))])\n",
    "off_by_two = sum([conf_matrix[i][j] if abs(i - j) == 2 else 0 for i in range(len(conf_matrix)) for j in range(len(conf_matrix))])\n",
    "off_by_three = sum([conf_matrix[i][j] if abs(i - j) == 3 else 0 for i in range(len(conf_matrix)) for j in range(len(conf_matrix))])\n",
    "\n",
    "print((100*accurate_classes/conf_matrix.sum()).round(1))\n",
    "print((100*off_by_one/conf_matrix.sum()).round(1))\n",
    "print((100*off_by_two/conf_matrix.sum()).round(1))\n",
    "print((100*off_by_three/conf_matrix.sum()).round(1))\n",
    "print('--------------------------------')\n",
    "print(cohen_kappa_score(y_train, y_train_pred_xgb,weights='linear').round(3))"
   ]
  },
  {
   "cell_type": "code",
   "execution_count": 17,
   "metadata": {},
   "outputs": [
    {
     "name": "stdout",
     "output_type": "stream",
     "text": [
      "59.2\n",
      "33.1\n",
      "6.3\n",
      "1.4\n",
      "--------------------------------\n",
      "0.604\n"
     ]
    }
   ],
   "source": [
    "conf_matrix= confusion_matrix(y_test, y_test_pred_xgb)\n",
    "accurate_classes = sum([conf_matrix[i][i] for i in range(len(conf_matrix))])\n",
    "off_by_one = sum([conf_matrix[i][j] if abs(i - j) == 1 else 0 for i in range(len(conf_matrix)) for j in range(len(conf_matrix))])\n",
    "off_by_two = sum([conf_matrix[i][j] if abs(i - j) == 2 else 0 for i in range(len(conf_matrix)) for j in range(len(conf_matrix))])\n",
    "off_by_three = sum([conf_matrix[i][j] if abs(i - j) == 3 else 0 for i in range(len(conf_matrix)) for j in range(len(conf_matrix))])\n",
    "\n",
    "print((100*accurate_classes/conf_matrix.sum()).round(1))\n",
    "print((100*off_by_one/conf_matrix.sum()).round(1))\n",
    "print((100*off_by_two/conf_matrix.sum()).round(1))\n",
    "print((100*off_by_three/conf_matrix.sum()).round(1))\n",
    "print('--------------------------------')\n",
    "print(cohen_kappa_score(y_test, y_test_pred_xgb,weights='linear').round(3))"
   ]
  },
  {
   "cell_type": "code",
   "execution_count": 18,
   "metadata": {},
   "outputs": [],
   "source": [
    "weights = 'linear'  \n",
    "kappa_scorer = make_scorer(cohen_kappa_score, weights=weights)\n"
   ]
  },
  {
   "cell_type": "code",
   "execution_count": 19,
   "metadata": {},
   "outputs": [],
   "source": [
    "grid_params = {\n",
    "    'n_estimators': [58,60,65],\n",
    "    'gamma': [1.0,1.05],\n",
    "   # 'reg_lambda': [0.5,1.0,2.0],\n",
    "    'max_depth': [14,15,16],\n",
    "    'learning_rate': [0.2]\n",
    "}\n",
    "\n",
    "gs = GridSearchCV(\n",
    "    XGBClassifier(random_state=RSEED, tree_method=\"hist\",enable_categorical=True, use_label_encoder=False),\n",
    "    grid_params,\n",
    "    verbose=1,\n",
    "    cv=3,\n",
    "    n_jobs=-1,\n",
    "    scoring=kappa_scorer)"
   ]
  },
  {
   "cell_type": "code",
   "execution_count": 20,
   "metadata": {},
   "outputs": [
    {
     "name": "stdout",
     "output_type": "stream",
     "text": [
      "Fitting 3 folds for each of 18 candidates, totalling 54 fits\n"
     ]
    }
   ],
   "source": [
    "xgb_gs = gs.fit(X_train, y_train)"
   ]
  },
  {
   "cell_type": "code",
   "execution_count": 21,
   "metadata": {},
   "outputs": [
    {
     "data": {
      "text/plain": [
       "{'gamma': 1.0, 'learning_rate': 0.2, 'max_depth': 15, 'n_estimators': 58}"
      ]
     },
     "execution_count": 21,
     "metadata": {},
     "output_type": "execute_result"
    }
   ],
   "source": [
    "xgb_gs.best_params_\n"
   ]
  },
  {
   "cell_type": "code",
   "execution_count": 22,
   "metadata": {},
   "outputs": [],
   "source": [
    "best_model = xgb_gs.best_estimator_"
   ]
  },
  {
   "cell_type": "code",
   "execution_count": 23,
   "metadata": {},
   "outputs": [
    {
     "data": {
      "image/png": "[encoded data removed]",
      "text/plain": [
       "<Figure size 1000x600 with 1 Axes>"
      ]
     },
     "metadata": {},
     "output_type": "display_data"
    }
   ],
   "source": [
    "from sklearn.inspection import permutation_importance\n",
    "\n",
    "perm_importance = permutation_importance(best_model, X_train, y_train,random_state=RSEED)\n",
    "\n",
    "sorted_idx = perm_importance.importances_mean.argsort()[::-1]\n",
    "feature_names = X.columns.tolist() \n",
    "top_features = 8\n",
    "plt.figure(figsize=(10, 6))\n",
    "plt.bar(range(top_features), perm_importance.importances_mean[sorted_idx][:top_features], align=\"center\")\n",
    "plt.xticks(range(top_features), [feature_names[i] for i in sorted_idx[:top_features]], rotation=90)\n",
    "plt.xlabel('Features')\n",
    "plt.ylabel('Permutation Importance')\n",
    "plt.title('Permutation Feature Importance of Top-Features')\n",
    "plt.show()"
   ]
  },
  {
   "cell_type": "code",
   "execution_count": 24,
   "metadata": {},
   "outputs": [
    {
     "data": {
      "text/plain": [
       "<Axes: title={'center': 'Feature importance'}, ylabel='Features'>"
      ]
     },
     "execution_count": 24,
     "metadata": {},
     "output_type": "execute_result"
    },
    {
     "data": {
      "image/png": "[encoded data removed]",
      "text/plain": [
       "<Figure size 640x480 with 1 Axes>"
      ]
     },
     "metadata": {},
     "output_type": "display_data"
    }
   ],
   "source": [
    "plot_importance(best_model, max_num_features = 15, xlabel='',title='Feature importance',show_values=False,importance_type='gain')"
   ]
  },
  {
   "cell_type": "code",
   "execution_count": 25,
   "metadata": {},
   "outputs": [],
   "source": [
    "y_train_pred_xgb = best_model.predict(X_train)\n",
    "y_test_pred_xgb = best_model.predict(X_test)"
   ]
  },
  {
   "cell_type": "code",
   "execution_count": 26,
   "metadata": {},
   "outputs": [
    {
     "name": "stdout",
     "output_type": "stream",
     "text": [
      "82.7\n",
      "13.2\n",
      "3.3\n",
      "0.8\n",
      "--------------------------------\n",
      "0.825\n"
     ]
    }
   ],
   "source": [
    "conf_matrix= confusion_matrix(y_train, y_train_pred_xgb)\n",
    "accurate_classes = sum([conf_matrix[i][i] for i in range(len(conf_matrix))])\n",
    "off_by_one = sum([conf_matrix[i][j] if abs(i - j) == 1 else 0 for i in range(len(conf_matrix)) for j in range(len(conf_matrix))])\n",
    "off_by_two = sum([conf_matrix[i][j] if abs(i - j) == 2 else 0 for i in range(len(conf_matrix)) for j in range(len(conf_matrix))])\n",
    "off_by_three = sum([conf_matrix[i][j] if abs(i - j) == 3 else 0 for i in range(len(conf_matrix)) for j in range(len(conf_matrix))])\n",
    "\n",
    "print((100*accurate_classes/conf_matrix.sum()).round(1))\n",
    "print((100*off_by_one/conf_matrix.sum()).round(1))\n",
    "print((100*off_by_two/conf_matrix.sum()).round(1))\n",
    "print((100*off_by_three/conf_matrix.sum()).round(1))\n",
    "print('--------------------------------')\n",
    "print(cohen_kappa_score(y_train, y_train_pred_xgb,weights='linear').round(3))"
   ]
  },
  {
   "cell_type": "code",
   "execution_count": 27,
   "metadata": {},
   "outputs": [
    {
     "name": "stdout",
     "output_type": "stream",
     "text": [
      "59.2\n",
      "33.1\n",
      "6.3\n",
      "1.4\n",
      "--------------------------------\n",
      "0.604\n"
     ]
    }
   ],
   "source": [
    "conf_matrix= confusion_matrix(y_test, y_test_pred_xgb)\n",
    "accurate_classes = sum([conf_matrix[i][i] for i in range(len(conf_matrix))])\n",
    "off_by_one = sum([conf_matrix[i][j] if abs(i - j) == 1 else 0 for i in range(len(conf_matrix)) for j in range(len(conf_matrix))])\n",
    "off_by_two = sum([conf_matrix[i][j] if abs(i - j) == 2 else 0 for i in range(len(conf_matrix)) for j in range(len(conf_matrix))])\n",
    "off_by_three = sum([conf_matrix[i][j] if abs(i - j) == 3 else 0 for i in range(len(conf_matrix)) for j in range(len(conf_matrix))])\n",
    "\n",
    "print((100*accurate_classes/conf_matrix.sum()).round(1))\n",
    "print((100*off_by_one/conf_matrix.sum()).round(1))\n",
    "print((100*off_by_two/conf_matrix.sum()).round(1))\n",
    "print((100*off_by_three/conf_matrix.sum()).round(1))\n",
    "print('--------------------------------')\n",
    "print(cohen_kappa_score(y_test, y_test_pred_xgb,weights='linear').round(3))\n"
   ]
  },
  {
   "cell_type": "code",
   "execution_count": 28,
   "metadata": {},
   "outputs": [
    {
     "data": {
      "text/plain": [
       "['track_genre_top',\n",
       " 'track_bit_rate',\n",
       " 'track_duration',\n",
       " 'album_information_bin',\n",
       " 'album_tracks',\n",
       " 'artist_bio_bin',\n",
       " 'track_title_char_count',\n",
       " 'track_number',\n",
       " 'license_category',\n",
       " 'other_website',\n",
       " 'soundcloud_website',\n",
       " 'number_of_genres_bins']"
      ]
     },
     "execution_count": 28,
     "metadata": {},
     "output_type": "execute_result"
    }
   ],
   "source": [
    "feature_names"
   ]
  },
  {
   "cell_type": "code",
   "execution_count": 30,
   "metadata": {},
   "outputs": [
    {
     "data": {
      "text/plain": [
       "array([3, 2, 1, 0])"
      ]
     },
     "execution_count": 30,
     "metadata": {},
     "output_type": "execute_result"
    }
   ],
   "source": [
    "y_test.unique()"
   ]
  }
 ],
 "metadata": {
  "kernelspec": {
   "display_name": ".venv",
   "language": "python",
   "name": "python3"
  },
  "language_info": {
   "codemirror_mode": {
    "name": "ipython",
    "version": 3
   },
   "file_extension": ".py",
   "mimetype": "text/x-python",
   "name": "python",
   "nbconvert_exporter": "python",
   "pygments_lexer": "ipython3",
   "version": "3.11.3"
  }
 },
 "nbformat": 4,
 "nbformat_minor": 2
}
