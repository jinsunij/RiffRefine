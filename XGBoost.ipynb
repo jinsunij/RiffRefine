{
 "cells": [
  {
   "cell_type": "code",
   "execution_count": 1,
   "metadata": {},
   "outputs": [],
   "source": [
    "# XGBoost by Priscila\n",
    "from xgboost import XGBClassifier\n",
    "\n",
    "import numpy as np\n",
    "import pandas as pd\n",
    "import seaborn as sns\n",
    "import matplotlib.pyplot as plt\n",
    "from sklearn.model_selection import train_test_split\n",
    "from sklearn.metrics import confusion_matrix, classification_report\n",
    "from itertools import product\n",
    "\n",
    "import warnings\n",
    "warnings.filterwarnings(\"ignore\")\n",
    "\n",
    "RSEED=42"
   ]
  },
  {
   "cell_type": "code",
   "execution_count": 2,
   "metadata": {},
   "outputs": [],
   "source": [
    "#Import data\n",
    "df = pd.read_csv('data/data_with_target.csv')\n",
    "column_names=['track_id','listens_month','track_genre_top','track_bit_rate','track_duration','artist_website_bin', 'artist_favorites', 'track_favorites', 'track_listens', 'album_listens']\n",
    "df_xg = df[column_names]"
   ]
  },
  {
   "cell_type": "code",
   "execution_count": 3,
   "metadata": {},
   "outputs": [
    {
     "name": "stdout",
     "output_type": "stream",
     "text": [
      "<class 'pandas.core.frame.DataFrame'>\n",
      "RangeIndex: 8000 entries, 0 to 7999\n",
      "Data columns (total 10 columns):\n",
      " #   Column              Non-Null Count  Dtype  \n",
      "---  ------              --------------  -----  \n",
      " 0   track_id            8000 non-null   int64  \n",
      " 1   listens_month       8000 non-null   float64\n",
      " 2   track_genre_top     8000 non-null   object \n",
      " 3   track_bit_rate      8000 non-null   int64  \n",
      " 4   track_duration      8000 non-null   int64  \n",
      " 5   artist_website_bin  8000 non-null   int64  \n",
      " 6   artist_favorites    8000 non-null   int64  \n",
      " 7   track_favorites     8000 non-null   int64  \n",
      " 8   track_listens       8000 non-null   int64  \n",
      " 9   album_listens       8000 non-null   int64  \n",
      "dtypes: float64(1), int64(8), object(1)\n",
      "memory usage: 625.1+ KB\n"
     ]
    }
   ],
   "source": [
    "df_xg.info()"
   ]
  },
  {
   "cell_type": "code",
   "execution_count": 4,
   "metadata": {},
   "outputs": [
    {
     "data": {
      "text/html": [
       "<div>\n",
       "<style scoped>\n",
       "    .dataframe tbody tr th:only-of-type {\n",
       "        vertical-align: middle;\n",
       "    }\n",
       "\n",
       "    .dataframe tbody tr th {\n",
       "        vertical-align: top;\n",
       "    }\n",
       "\n",
       "    .dataframe thead th {\n",
       "        text-align: right;\n",
       "    }\n",
       "</style>\n",
       "<table border=\"1\" class=\"dataframe\">\n",
       "  <thead>\n",
       "    <tr style=\"text-align: right;\">\n",
       "      <th></th>\n",
       "      <th>track_id</th>\n",
       "      <th>listens_month</th>\n",
       "      <th>track_genre_top</th>\n",
       "      <th>track_bit_rate</th>\n",
       "      <th>track_duration</th>\n",
       "      <th>artist_website_bin</th>\n",
       "      <th>artist_favorites</th>\n",
       "      <th>track_favorites</th>\n",
       "      <th>track_listens</th>\n",
       "      <th>album_listens</th>\n",
       "    </tr>\n",
       "  </thead>\n",
       "  <tbody>\n",
       "    <tr>\n",
       "      <th>0</th>\n",
       "      <td>2</td>\n",
       "      <td>12.801980</td>\n",
       "      <td>Hip-Hop</td>\n",
       "      <td>256000</td>\n",
       "      <td>168</td>\n",
       "      <td>1</td>\n",
       "      <td>9</td>\n",
       "      <td>2</td>\n",
       "      <td>1293</td>\n",
       "      <td>6073</td>\n",
       "    </tr>\n",
       "    <tr>\n",
       "      <th>1</th>\n",
       "      <td>5</td>\n",
       "      <td>11.396040</td>\n",
       "      <td>Hip-Hop</td>\n",
       "      <td>256000</td>\n",
       "      <td>206</td>\n",
       "      <td>1</td>\n",
       "      <td>9</td>\n",
       "      <td>6</td>\n",
       "      <td>1151</td>\n",
       "      <td>6073</td>\n",
       "    </tr>\n",
       "    <tr>\n",
       "      <th>2</th>\n",
       "      <td>10</td>\n",
       "      <td>496.386139</td>\n",
       "      <td>Pop</td>\n",
       "      <td>192000</td>\n",
       "      <td>161</td>\n",
       "      <td>1</td>\n",
       "      <td>74</td>\n",
       "      <td>178</td>\n",
       "      <td>50135</td>\n",
       "      <td>47632</td>\n",
       "    </tr>\n",
       "    <tr>\n",
       "      <th>3</th>\n",
       "      <td>140</td>\n",
       "      <td>12.861386</td>\n",
       "      <td>Folk</td>\n",
       "      <td>128000</td>\n",
       "      <td>253</td>\n",
       "      <td>1</td>\n",
       "      <td>11</td>\n",
       "      <td>5</td>\n",
       "      <td>1299</td>\n",
       "      <td>1300</td>\n",
       "    </tr>\n",
       "    <tr>\n",
       "      <th>4</th>\n",
       "      <td>141</td>\n",
       "      <td>7.178218</td>\n",
       "      <td>Folk</td>\n",
       "      <td>128000</td>\n",
       "      <td>182</td>\n",
       "      <td>1</td>\n",
       "      <td>11</td>\n",
       "      <td>1</td>\n",
       "      <td>725</td>\n",
       "      <td>1304</td>\n",
       "    </tr>\n",
       "  </tbody>\n",
       "</table>\n",
       "</div>"
      ],
      "text/plain": [
       "   track_id  listens_month track_genre_top  track_bit_rate  track_duration  \\\n",
       "0         2      12.801980         Hip-Hop          256000             168   \n",
       "1         5      11.396040         Hip-Hop          256000             206   \n",
       "2        10     496.386139             Pop          192000             161   \n",
       "3       140      12.861386            Folk          128000             253   \n",
       "4       141       7.178218            Folk          128000             182   \n",
       "\n",
       "   artist_website_bin  artist_favorites  track_favorites  track_listens  \\\n",
       "0                   1                 9                2           1293   \n",
       "1                   1                 9                6           1151   \n",
       "2                   1                74              178          50135   \n",
       "3                   1                11                5           1299   \n",
       "4                   1                11                1            725   \n",
       "\n",
       "   album_listens  \n",
       "0           6073  \n",
       "1           6073  \n",
       "2          47632  \n",
       "3           1300  \n",
       "4           1304  "
      ]
     },
     "execution_count": 4,
     "metadata": {},
     "output_type": "execute_result"
    }
   ],
   "source": [
    "df_xg.head()"
   ]
  },
  {
   "cell_type": "code",
   "execution_count": 13,
   "metadata": {},
   "outputs": [],
   "source": [
    "# Split the data\n",
    "X = df_xg.drop('listens_month', axis=1)\n",
    "y = df_xg['listens_month']\n",
    "X_train, X_test, y_train, y_test = train_test_split(X, y, test_size=0.3, random_state=RSEED)"
   ]
  },
  {
   "cell_type": "code",
   "execution_count": 11,
   "metadata": {},
   "outputs": [
    {
     "ename": "ValueError",
     "evalue": "Invalid classes inferred from unique values of `y`.  Expected: [   0    1    2 ... 5439 5440 5441], got [3.32954545e+00 3.89795918e+00 4.17708333e+00 ... 4.98841379e+03\n 5.98598214e+03 9.83975000e+03]",
     "output_type": "error",
     "traceback": [
      "\u001b[0;31m---------------------------------------------------------------------------\u001b[0m",
      "\u001b[0;31mValueError\u001b[0m                                Traceback (most recent call last)",
      "\u001b[1;32m/Users/priscila/Desktop/Neufische/musicpro/RiffRefine/XGBoost.ipynb Cell 6\u001b[0m line \u001b[0;36m8\n\u001b[1;32m      <a href='vscode-notebook-cell:/Users/priscila/Desktop/Neufische/musicpro/RiffRefine/XGBoost.ipynb#W5sZmlsZQ%3D%3D?line=0'>1</a>\u001b[0m \u001b[39m# Fit model to training data\u001b[39;00m\n\u001b[1;32m      <a href='vscode-notebook-cell:/Users/priscila/Desktop/Neufische/musicpro/RiffRefine/XGBoost.ipynb#W5sZmlsZQ%3D%3D?line=1'>2</a>\u001b[0m xgb \u001b[39m=\u001b[39m XGBClassifier(random_state\u001b[39m=\u001b[39mRSEED,\n\u001b[1;32m      <a href='vscode-notebook-cell:/Users/priscila/Desktop/Neufische/musicpro/RiffRefine/XGBoost.ipynb#W5sZmlsZQ%3D%3D?line=2'>3</a>\u001b[0m                      n_jobs\u001b[39m=\u001b[39m\u001b[39m-\u001b[39m\u001b[39m1\u001b[39m,\n\u001b[1;32m      <a href='vscode-notebook-cell:/Users/priscila/Desktop/Neufische/musicpro/RiffRefine/XGBoost.ipynb#W5sZmlsZQ%3D%3D?line=3'>4</a>\u001b[0m                     \u001b[39m#n_estimators=1000,\u001b[39;00m\n\u001b[1;32m      <a href='vscode-notebook-cell:/Users/priscila/Desktop/Neufische/musicpro/RiffRefine/XGBoost.ipynb#W5sZmlsZQ%3D%3D?line=4'>5</a>\u001b[0m                     \u001b[39m#learning_rate=0.1,\u001b[39;00m\n\u001b[1;32m      <a href='vscode-notebook-cell:/Users/priscila/Desktop/Neufische/musicpro/RiffRefine/XGBoost.ipynb#W5sZmlsZQ%3D%3D?line=5'>6</a>\u001b[0m                     \u001b[39m#subsample=0.5,\u001b[39;00m\n\u001b[1;32m      <a href='vscode-notebook-cell:/Users/priscila/Desktop/Neufische/musicpro/RiffRefine/XGBoost.ipynb#W5sZmlsZQ%3D%3D?line=6'>7</a>\u001b[0m                     )\n\u001b[0;32m----> <a href='vscode-notebook-cell:/Users/priscila/Desktop/Neufische/musicpro/RiffRefine/XGBoost.ipynb#W5sZmlsZQ%3D%3D?line=7'>8</a>\u001b[0m xgb\u001b[39m.\u001b[39;49mfit(X_train, y_train)\n\u001b[1;32m      <a href='vscode-notebook-cell:/Users/priscila/Desktop/Neufische/musicpro/RiffRefine/XGBoost.ipynb#W5sZmlsZQ%3D%3D?line=8'>9</a>\u001b[0m \u001b[39m# Make predictions on test set\u001b[39;00m\n\u001b[1;32m     <a href='vscode-notebook-cell:/Users/priscila/Desktop/Neufische/musicpro/RiffRefine/XGBoost.ipynb#W5sZmlsZQ%3D%3D?line=9'>10</a>\u001b[0m y_pred \u001b[39m=\u001b[39m xgb\u001b[39m.\u001b[39mpredict(X_test)\n",
      "File \u001b[0;32m~/Desktop/Neufische/musicpro/RiffRefine/.venv/lib/python3.11/site-packages/xgboost/core.py:729\u001b[0m, in \u001b[0;36mrequire_keyword_args.<locals>.throw_if.<locals>.inner_f\u001b[0;34m(*args, **kwargs)\u001b[0m\n\u001b[1;32m    727\u001b[0m \u001b[39mfor\u001b[39;00m k, arg \u001b[39min\u001b[39;00m \u001b[39mzip\u001b[39m(sig\u001b[39m.\u001b[39mparameters, args):\n\u001b[1;32m    728\u001b[0m     kwargs[k] \u001b[39m=\u001b[39m arg\n\u001b[0;32m--> 729\u001b[0m \u001b[39mreturn\u001b[39;00m func(\u001b[39m*\u001b[39;49m\u001b[39m*\u001b[39;49mkwargs)\n",
      "File \u001b[0;32m~/Desktop/Neufische/musicpro/RiffRefine/.venv/lib/python3.11/site-packages/xgboost/sklearn.py:1467\u001b[0m, in \u001b[0;36mXGBClassifier.fit\u001b[0;34m(self, X, y, sample_weight, base_margin, eval_set, eval_metric, early_stopping_rounds, verbose, xgb_model, sample_weight_eval_set, base_margin_eval_set, feature_weights, callbacks)\u001b[0m\n\u001b[1;32m   1462\u001b[0m     expected_classes \u001b[39m=\u001b[39m \u001b[39mself\u001b[39m\u001b[39m.\u001b[39mclasses_\n\u001b[1;32m   1463\u001b[0m \u001b[39mif\u001b[39;00m (\n\u001b[1;32m   1464\u001b[0m     classes\u001b[39m.\u001b[39mshape \u001b[39m!=\u001b[39m expected_classes\u001b[39m.\u001b[39mshape\n\u001b[1;32m   1465\u001b[0m     \u001b[39mor\u001b[39;00m \u001b[39mnot\u001b[39;00m (classes \u001b[39m==\u001b[39m expected_classes)\u001b[39m.\u001b[39mall()\n\u001b[1;32m   1466\u001b[0m ):\n\u001b[0;32m-> 1467\u001b[0m     \u001b[39mraise\u001b[39;00m \u001b[39mValueError\u001b[39;00m(\n\u001b[1;32m   1468\u001b[0m         \u001b[39mf\u001b[39m\u001b[39m\"\u001b[39m\u001b[39mInvalid classes inferred from unique values of `y`.  \u001b[39m\u001b[39m\"\u001b[39m\n\u001b[1;32m   1469\u001b[0m         \u001b[39mf\u001b[39m\u001b[39m\"\u001b[39m\u001b[39mExpected: \u001b[39m\u001b[39m{\u001b[39;00mexpected_classes\u001b[39m}\u001b[39;00m\u001b[39m, got \u001b[39m\u001b[39m{\u001b[39;00mclasses\u001b[39m}\u001b[39;00m\u001b[39m\"\u001b[39m\n\u001b[1;32m   1470\u001b[0m     )\n\u001b[1;32m   1472\u001b[0m params \u001b[39m=\u001b[39m \u001b[39mself\u001b[39m\u001b[39m.\u001b[39mget_xgb_params()\n\u001b[1;32m   1474\u001b[0m \u001b[39mif\u001b[39;00m \u001b[39mcallable\u001b[39m(\u001b[39mself\u001b[39m\u001b[39m.\u001b[39mobjective):\n",
      "\u001b[0;31mValueError\u001b[0m: Invalid classes inferred from unique values of `y`.  Expected: [   0    1    2 ... 5439 5440 5441], got [3.32954545e+00 3.89795918e+00 4.17708333e+00 ... 4.98841379e+03\n 5.98598214e+03 9.83975000e+03]"
     ]
    }
   ],
   "source": [
    "# Fit model to training data\n",
    "xgb = XGBClassifier(random_state=RSEED,\n",
    "                     n_jobs=-1,\n",
    "                    #n_estimators=1000,\n",
    "                    #learning_rate=0.1,\n",
    "                    #subsample=0.5,\n",
    "                    )\n",
    "xgb.fit(X_train, y_train)\n",
    "# Make predictions on test set\n",
    "y_pred = xgb.predict(X_test)"
   ]
  },
  {
   "cell_type": "code",
   "execution_count": null,
   "metadata": {},
   "outputs": [],
   "source": []
  },
  {
   "cell_type": "code",
   "execution_count": null,
   "metadata": {},
   "outputs": [],
   "source": []
  },
  {
   "cell_type": "code",
   "execution_count": null,
   "metadata": {},
   "outputs": [],
   "source": []
  },
  {
   "cell_type": "code",
   "execution_count": null,
   "metadata": {},
   "outputs": [],
   "source": []
  }
 ],
 "metadata": {
  "kernelspec": {
   "display_name": ".venv",
   "language": "python",
   "name": "python3"
  },
  "language_info": {
   "codemirror_mode": {
    "name": "ipython",
    "version": 3
   },
   "file_extension": ".py",
   "mimetype": "text/x-python",
   "name": "python",
   "nbconvert_exporter": "python",
   "pygments_lexer": "ipython3",
   "version": "3.11.3"
  }
 },
 "nbformat": 4,
 "nbformat_minor": 2
}
