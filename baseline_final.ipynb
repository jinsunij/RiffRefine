{
 "cells": [
  {
   "cell_type": "code",
   "execution_count": 1,
   "metadata": {},
   "outputs": [],
   "source": [
    "# import libraries\n",
    "\n",
    "import os\n",
    "\n",
    "import IPython.display as ipd\n",
    "import numpy as np\n",
    "import pandas as pd\n",
    "import matplotlib.pyplot as plt\n",
    "import seaborn as sns\n",
    "import sklearn as skl\n",
    "import sklearn.utils, sklearn.preprocessing, sklearn.decomposition, sklearn.svm\n",
    "import librosa\n",
    "import librosa.display\n",
    "\n"
   ]
  },
  {
   "cell_type": "code",
   "execution_count": 2,
   "metadata": {},
   "outputs": [],
   "source": [
    "# Set the style parameters\n",
    "plt.rcParams['axes.facecolor'] = '#fffaeb'  # Background color\n",
    "plt.rcParams['figure.facecolor'] = '#fffaeb'  # Background color"
   ]
  },
  {
   "cell_type": "code",
   "execution_count": 3,
   "metadata": {},
   "outputs": [
    {
     "data": {
      "text/html": [
       "<div>\n",
       "<style scoped>\n",
       "    .dataframe tbody tr th:only-of-type {\n",
       "        vertical-align: middle;\n",
       "    }\n",
       "\n",
       "    .dataframe tbody tr th {\n",
       "        vertical-align: top;\n",
       "    }\n",
       "\n",
       "    .dataframe thead th {\n",
       "        text-align: right;\n",
       "    }\n",
       "</style>\n",
       "<table border=\"1\" class=\"dataframe\">\n",
       "  <thead>\n",
       "    <tr style=\"text-align: right;\">\n",
       "      <th></th>\n",
       "      <th>Unnamed: 0</th>\n",
       "      <th>track_id</th>\n",
       "      <th>album_comments</th>\n",
       "      <th>album_date_created</th>\n",
       "      <th>album_favorites</th>\n",
       "      <th>album_id</th>\n",
       "      <th>album_listens</th>\n",
       "      <th>album_title</th>\n",
       "      <th>album_tracks</th>\n",
       "      <th>album_type</th>\n",
       "      <th>...</th>\n",
       "      <th>zcr_mean_01</th>\n",
       "      <th>zcr_median_01</th>\n",
       "      <th>zcr_min_01</th>\n",
       "      <th>zcr_skew_01</th>\n",
       "      <th>zcr_std_01</th>\n",
       "      <th>other_website</th>\n",
       "      <th>soundcloud_website</th>\n",
       "      <th>track_title_char_count</th>\n",
       "      <th>album_information_bin</th>\n",
       "      <th>artist_bio_bin</th>\n",
       "    </tr>\n",
       "  </thead>\n",
       "  <tbody>\n",
       "    <tr>\n",
       "      <th>0</th>\n",
       "      <td>0</td>\n",
       "      <td>2</td>\n",
       "      <td>0</td>\n",
       "      <td>2008-11-26 01:44:45</td>\n",
       "      <td>4</td>\n",
       "      <td>1</td>\n",
       "      <td>6073</td>\n",
       "      <td>AWOL - A Way Of Life</td>\n",
       "      <td>7</td>\n",
       "      <td>Album</td>\n",
       "      <td>...</td>\n",
       "      <td>0.085629</td>\n",
       "      <td>0.071289</td>\n",
       "      <td>0.000000</td>\n",
       "      <td>2.089872</td>\n",
       "      <td>0.061448</td>\n",
       "      <td>True</td>\n",
       "      <td>False</td>\n",
       "      <td>4</td>\n",
       "      <td>1</td>\n",
       "      <td>1</td>\n",
       "    </tr>\n",
       "    <tr>\n",
       "      <th>1</th>\n",
       "      <td>1</td>\n",
       "      <td>5</td>\n",
       "      <td>0</td>\n",
       "      <td>2008-11-26 01:44:45</td>\n",
       "      <td>4</td>\n",
       "      <td>1</td>\n",
       "      <td>6073</td>\n",
       "      <td>AWOL - A Way Of Life</td>\n",
       "      <td>7</td>\n",
       "      <td>Album</td>\n",
       "      <td>...</td>\n",
       "      <td>0.053114</td>\n",
       "      <td>0.041504</td>\n",
       "      <td>0.000000</td>\n",
       "      <td>2.193303</td>\n",
       "      <td>0.044861</td>\n",
       "      <td>True</td>\n",
       "      <td>False</td>\n",
       "      <td>10</td>\n",
       "      <td>1</td>\n",
       "      <td>1</td>\n",
       "    </tr>\n",
       "    <tr>\n",
       "      <th>2</th>\n",
       "      <td>2</td>\n",
       "      <td>10</td>\n",
       "      <td>0</td>\n",
       "      <td>2008-11-26 01:45:08</td>\n",
       "      <td>4</td>\n",
       "      <td>6</td>\n",
       "      <td>47632</td>\n",
       "      <td>Constant Hitmaker</td>\n",
       "      <td>2</td>\n",
       "      <td>Album</td>\n",
       "      <td>...</td>\n",
       "      <td>0.077515</td>\n",
       "      <td>0.071777</td>\n",
       "      <td>0.000000</td>\n",
       "      <td>3.542325</td>\n",
       "      <td>0.040800</td>\n",
       "      <td>True</td>\n",
       "      <td>False</td>\n",
       "      <td>7</td>\n",
       "      <td>0</td>\n",
       "      <td>1</td>\n",
       "    </tr>\n",
       "    <tr>\n",
       "      <th>3</th>\n",
       "      <td>3</td>\n",
       "      <td>140</td>\n",
       "      <td>1</td>\n",
       "      <td>2008-11-26 01:49:59</td>\n",
       "      <td>1</td>\n",
       "      <td>61</td>\n",
       "      <td>1300</td>\n",
       "      <td>The Blind Spot</td>\n",
       "      <td>1</td>\n",
       "      <td>Album</td>\n",
       "      <td>...</td>\n",
       "      <td>0.052379</td>\n",
       "      <td>0.036621</td>\n",
       "      <td>0.001953</td>\n",
       "      <td>3.143968</td>\n",
       "      <td>0.057712</td>\n",
       "      <td>True</td>\n",
       "      <td>False</td>\n",
       "      <td>18</td>\n",
       "      <td>1</td>\n",
       "      <td>1</td>\n",
       "    </tr>\n",
       "    <tr>\n",
       "      <th>4</th>\n",
       "      <td>4</td>\n",
       "      <td>141</td>\n",
       "      <td>0</td>\n",
       "      <td>2008-11-26 01:49:57</td>\n",
       "      <td>1</td>\n",
       "      <td>60</td>\n",
       "      <td>1304</td>\n",
       "      <td>Every Man For Himself</td>\n",
       "      <td>2</td>\n",
       "      <td>Album</td>\n",
       "      <td>...</td>\n",
       "      <td>0.040267</td>\n",
       "      <td>0.034668</td>\n",
       "      <td>0.002930</td>\n",
       "      <td>4.204097</td>\n",
       "      <td>0.028665</td>\n",
       "      <td>True</td>\n",
       "      <td>False</td>\n",
       "      <td>4</td>\n",
       "      <td>1</td>\n",
       "      <td>1</td>\n",
       "    </tr>\n",
       "  </tbody>\n",
       "</table>\n",
       "<p>5 rows × 554 columns</p>\n",
       "</div>"
      ],
      "text/plain": [
       "   Unnamed: 0  track_id  album_comments   album_date_created  album_favorites  \\\n",
       "0           0         2               0  2008-11-26 01:44:45                4   \n",
       "1           1         5               0  2008-11-26 01:44:45                4   \n",
       "2           2        10               0  2008-11-26 01:45:08                4   \n",
       "3           3       140               1  2008-11-26 01:49:59                1   \n",
       "4           4       141               0  2008-11-26 01:49:57                1   \n",
       "\n",
       "   album_id  album_listens            album_title  album_tracks album_type  \\\n",
       "0         1           6073   AWOL - A Way Of Life             7      Album   \n",
       "1         1           6073   AWOL - A Way Of Life             7      Album   \n",
       "2         6          47632      Constant Hitmaker             2      Album   \n",
       "3        61           1300         The Blind Spot             1      Album   \n",
       "4        60           1304  Every Man For Himself             2      Album   \n",
       "\n",
       "   ...  zcr_mean_01 zcr_median_01  zcr_min_01  zcr_skew_01 zcr_std_01  \\\n",
       "0  ...     0.085629      0.071289    0.000000     2.089872   0.061448   \n",
       "1  ...     0.053114      0.041504    0.000000     2.193303   0.044861   \n",
       "2  ...     0.077515      0.071777    0.000000     3.542325   0.040800   \n",
       "3  ...     0.052379      0.036621    0.001953     3.143968   0.057712   \n",
       "4  ...     0.040267      0.034668    0.002930     4.204097   0.028665   \n",
       "\n",
       "  other_website soundcloud_website track_title_char_count  \\\n",
       "0          True              False                      4   \n",
       "1          True              False                     10   \n",
       "2          True              False                      7   \n",
       "3          True              False                     18   \n",
       "4          True              False                      4   \n",
       "\n",
       "   album_information_bin  artist_bio_bin  \n",
       "0                      1               1  \n",
       "1                      1               1  \n",
       "2                      0               1  \n",
       "3                      1               1  \n",
       "4                      1               1  \n",
       "\n",
       "[5 rows x 554 columns]"
      ]
     },
     "execution_count": 3,
     "metadata": {},
     "output_type": "execute_result"
    }
   ],
   "source": [
    "# read data\n",
    "\n",
    "df_final=pd.read_csv('data/data_cleaned.csv')\n",
    "df_final.head()\n"
   ]
  },
  {
   "cell_type": "code",
   "execution_count": 4,
   "metadata": {},
   "outputs": [
    {
     "data": {
      "text/plain": [
       "count      8000.00\n",
       "mean       4729.68\n",
       "std       12222.02\n",
       "min         196.00\n",
       "25%        1266.00\n",
       "50%        2492.50\n",
       "75%        4900.25\n",
       "max      543252.00\n",
       "Name: track_listens, dtype: float64"
      ]
     },
     "execution_count": 4,
     "metadata": {},
     "output_type": "execute_result"
    }
   ],
   "source": [
    "# check possible target variable\n",
    "\n",
    "df_final['track_listens'].describe().round(2)"
   ]
  },
  {
   "cell_type": "code",
   "execution_count": 5,
   "metadata": {},
   "outputs": [
    {
     "data": {
      "text/plain": [
       "<Axes: xlabel='months_life', ylabel='Count'>"
      ]
     },
     "execution_count": 5,
     "metadata": {},
     "output_type": "execute_result"
    },
    {
     "data": {
      "image/png": "[encoded data removed]",
      "text/plain": [
       "<Figure size 640x480 with 1 Axes>"
      ]
     },
     "metadata": {},
     "output_type": "display_data"
    }
   ],
   "source": [
    "# analyse 'new' tracks\n",
    "df_final['track_date_created'] = pd.to_datetime(df_final['track_date_created'])\n",
    "target_date = pd.to_datetime('2017-04-01')\n",
    "df_final['months_life'] = ((target_date.year - df_final['track_date_created'].dt.year) * 12 +\n",
    "                          (target_date.month - df_final['track_date_created'].dt.month))\n",
    "df_final['months'] = df_final['track_date_created'].dt.month\n",
    "sns.histplot(data=df_final[df_final['months_life']<5],x='months_life')"
   ]
  },
  {
   "cell_type": "code",
   "execution_count": 6,
   "metadata": {},
   "outputs": [
    {
     "data": {
      "text/plain": [
       "<Axes: xlabel='months_life', ylabel='track_listens'>"
      ]
     },
     "execution_count": 6,
     "metadata": {},
     "output_type": "execute_result"
    },
    {
     "data": {
      "image/png": "[encoded data removed]",
      "text/plain": [
       "<Figure size 640x480 with 1 Axes>"
      ]
     },
     "metadata": {},
     "output_type": "display_data"
    }
   ],
   "source": [
    "# development of listens depending on track \"age\", as of month 5 almost stable number of listens\n",
    "\n",
    "df_final.groupby('months_life')['track_listens'].median()\n",
    "sns.barplot(data=df_final[df_final['months_life']<30],x='months_life',y='track_listens',estimator='median')"
   ]
  },
  {
   "cell_type": "code",
   "execution_count": 7,
   "metadata": {},
   "outputs": [
    {
     "data": {
      "text/plain": [
       "months_life\n",
       "1     1474.000000\n",
       "2      511.250000\n",
       "3      664.666667\n",
       "4      360.375000\n",
       "5      527.200000\n",
       "6      415.333333\n",
       "7      365.571429\n",
       "8      398.000000\n",
       "9      454.833333\n",
       "10     273.250000\n",
       "11     263.636364\n",
       "12     191.208333\n",
       "13     336.538462\n",
       "14     170.785714\n",
       "15     157.500000\n",
       "16     169.937500\n",
       "17     126.352941\n",
       "18     147.444444\n",
       "19     151.473684\n",
       "Name: listens_month, dtype: float64"
      ]
     },
     "execution_count": 7,
     "metadata": {},
     "output_type": "execute_result"
    }
   ],
   "source": [
    "# listens per month, calculation of quartiles for bonus class definition and amount of bonus given\n",
    "\n",
    "df_final['listens_month']=df_final['track_listens']/df_final['months_life']\n",
    "df_final[df_final['months_life']<20].groupby('months_life')['listens_month'].median()\n",
    "\n",
    "#df_final[df_final['months_life']==1]['listens_month'].describe()\n",
    "#df_final[df_final['months_life']==2]['listens_month'].describe()\n",
    "#df_final[df_final['months_life']==3]['listens_month'].describe()\n",
    "#df_final[df_final['months_life']==4]['listens_month'].describe()\n",
    "#df_final[df_final['months_life']==5]['listens_month'].describe()\n",
    "#df_final[df_final['months_life']==1]['track_listens'].describe()\n",
    "#df_final[df_final['months_life']==2]['track_listens'].describe()\n",
    "#df_final[df_final['months_life']==3]['track_listens'].describe()\n",
    "#df_final[df_final['months_life']==4]['track_listens'].describe()"
   ]
  },
  {
   "cell_type": "code",
   "execution_count": 8,
   "metadata": {},
   "outputs": [],
   "source": [
    "# Function to calculate bonus_listens, tracks which started successful get higher bonus for month 2,3,4 and 5 based on quartiles above\n",
    "\n",
    "def calculate_bonus(row):\n",
    "    if row['months_life'] == 1:\n",
    "        if row['track_listens'] < 1312:\n",
    "            return 168 + 157 + 102 + 158\n",
    "        elif 1312 <= row['track_listens'] < 1474:\n",
    "            return 280 + 432 + 217 + 338\n",
    "        elif 1474 <= row['track_listens'] < 1835:\n",
    "            return 511 + 664 + 360 + 527\n",
    "        else:\n",
    "            return 938 + 1070 + 686 + 885\n",
    "    elif row['months_life'] == 2:\n",
    "        if row['track_listens'] < 561:\n",
    "            return 157 + 102 + 158\n",
    "        elif 561 <= row['track_listens'] < 1023:\n",
    "            return 432 + 217 + 338\n",
    "        elif 1023 <= row['track_listens'] < 1875:\n",
    "            return 664 + 360 + 527\n",
    "        else:\n",
    "            return 1070 + 686 + 885\n",
    "    elif row['months_life'] == 3:\n",
    "        if row['track_listens'] < 1296:\n",
    "            return 102 + 158\n",
    "        elif 1296 <= row['track_listens'] < 1994:\n",
    "            return 217 + 338\n",
    "        elif 1994 <= row['track_listens'] < 3209:\n",
    "            return 360 + 527\n",
    "        else:\n",
    "            return 686 + 885\n",
    "    elif row['months_life'] == 4:\n",
    "        if row['track_listens'] < 868:\n",
    "            return 158\n",
    "        elif 868 <= row['track_listens'] < 1441:\n",
    "            return 338\n",
    "        elif 1441 <= row['track_listens'] < 2702:\n",
    "            return 527\n",
    "        else:\n",
    "            return 885\n"
   ]
  },
  {
   "cell_type": "code",
   "execution_count": 9,
   "metadata": {},
   "outputs": [],
   "source": [
    "# Apply function and add it to original listens\n",
    "\n",
    "df_final['bonus_listens'] = df_final.apply(calculate_bonus, axis=1)\n",
    "\n",
    "df_final['bonus_listens'].fillna(0, inplace=True)\n",
    "df_final['listens_incl_bonus']=df_final['track_listens']+df_final['bonus_listens']\n"
   ]
  },
  {
   "cell_type": "code",
   "execution_count": 25,
   "metadata": {},
   "outputs": [
    {
     "data": {
      "image/png": "[encoded data removed]",
      "text/plain": [
       "<Figure size 1000x600 with 1 Axes>"
      ]
     },
     "metadata": {},
     "output_type": "display_data"
    }
   ],
   "source": [
    "# plot bonus and original listens\n",
    "\n",
    "filtered_data = df_final[df_final['months_life'] < 25]\n",
    "grouped_data = filtered_data.groupby('months_life')[['track_listens', 'bonus_listens']].mean()\n",
    "\n",
    "plt.rcParams['axes.facecolor'] = '#fffaeb'  # Background color\n",
    "plt.rcParams['figure.facecolor'] = '#fffaeb'  # Background color\n",
    "plt.rcParams['font.family'] = 'sans-serif'  # Font family\n",
    "\n",
    "colors = plt.cm.YlGnBu([0.7, 0.5, 0.3, 0.2])\n",
    "\n",
    "plt.figure(figsize=(10, 6))\n",
    "bottom = None\n",
    "for column in grouped_data.columns:\n",
    "    plt.bar(grouped_data.index, grouped_data[column], label=column,bottom=bottom)\n",
    "    if bottom is None:\n",
    "        bottom = grouped_data[column]\n",
    "    else:\n",
    "        bottom += grouped_data[column]\n",
    "plt.title('Compensation for new tracks', fontsize=16, fontweight='bold', y=1.03)  \n",
    "plt.xlabel('Months life',fontsize=14)\n",
    "plt.ylabel('Median listens',fontsize=14)\n",
    "plt.legend(title='Listen',fontsize=12)\n",
    "plt.show()"
   ]
  },
  {
   "cell_type": "code",
   "execution_count": 11,
   "metadata": {},
   "outputs": [],
   "source": [
    "# calculation conversion rate needs to be based on adjusted listens AND interest\n",
    "\n",
    "#df_final['combi']=df_final['listens_incl_bonus']/df_final['track_interest']\n",
    "#df_final['pop_score']=df_final['combi']*df_final['listens_incl_bonus']"
   ]
  },
  {
   "cell_type": "code",
   "execution_count": 12,
   "metadata": {},
   "outputs": [
    {
     "data": {
      "text/plain": [
       "<Axes: xlabel='listens_incl_bonus', ylabel='Count'>"
      ]
     },
     "execution_count": 12,
     "metadata": {},
     "output_type": "execute_result"
    },
    {
     "data": {
      "image/png": "[encoded data removed]",
      "text/plain": [
       "<Figure size 640x480 with 1 Axes>"
      ]
     },
     "metadata": {},
     "output_type": "display_data"
    }
   ],
   "source": [
    "df_final_15 = df_final[df_final['listens_incl_bonus']<15000]\n",
    "sns.histplot(data=df_final_15,x='listens_incl_bonus')"
   ]
  },
  {
   "cell_type": "code",
   "execution_count": 13,
   "metadata": {},
   "outputs": [
    {
     "name": "stdout",
     "output_type": "stream",
     "text": [
      "[1.96000e+02 1.27375e+03 2.50550e+03 4.93700e+03 5.43252e+05]\n"
     ]
    }
   ],
   "source": [
    "# print bin edges for 4 balanced bins of track listens incl. bonus\n",
    "\n",
    "results, bin_edges= pd.qcut(df_final['listens_incl_bonus'], q=4,retbins=True)\n",
    "print(bin_edges)"
   ]
  },
  {
   "cell_type": "code",
   "execution_count": 14,
   "metadata": {},
   "outputs": [
    {
     "data": {
      "text/plain": [
       "listens_bins\n",
       "2    2054\n",
       "3    2053\n",
       "4    1960\n",
       "1    1933\n",
       "Name: count, dtype: int64"
      ]
     },
     "execution_count": 14,
     "metadata": {},
     "output_type": "execute_result"
    }
   ],
   "source": [
    "# create 5 bins for listens incl. bonus with customized edges\n",
    "custom_bins = [0, 1250, 2500, 5000, float('inf')]\n",
    "df_final['listens_bins'] = pd.cut(df_final['listens_incl_bonus'], bins=custom_bins, labels=range(1,5))\n",
    "df_final['listens_bins'].value_counts()"
   ]
  },
  {
   "cell_type": "code",
   "execution_count": 15,
   "metadata": {},
   "outputs": [
    {
     "data": {
      "text/html": [
       "<div>\n",
       "<style scoped>\n",
       "    .dataframe tbody tr th:only-of-type {\n",
       "        vertical-align: middle;\n",
       "    }\n",
       "\n",
       "    .dataframe tbody tr th {\n",
       "        vertical-align: top;\n",
       "    }\n",
       "\n",
       "    .dataframe thead th {\n",
       "        text-align: right;\n",
       "    }\n",
       "</style>\n",
       "<table border=\"1\" class=\"dataframe\">\n",
       "  <thead>\n",
       "    <tr style=\"text-align: right;\">\n",
       "      <th>listens_bins</th>\n",
       "      <th>1</th>\n",
       "      <th>2</th>\n",
       "      <th>3</th>\n",
       "      <th>4</th>\n",
       "    </tr>\n",
       "    <tr>\n",
       "      <th>track_genre_top</th>\n",
       "      <th></th>\n",
       "      <th></th>\n",
       "      <th></th>\n",
       "      <th></th>\n",
       "    </tr>\n",
       "  </thead>\n",
       "  <tbody>\n",
       "    <tr>\n",
       "      <th>Electronic</th>\n",
       "      <td>0</td>\n",
       "      <td>2</td>\n",
       "      <td>239</td>\n",
       "      <td>759</td>\n",
       "    </tr>\n",
       "    <tr>\n",
       "      <th>Experimental</th>\n",
       "      <td>426</td>\n",
       "      <td>357</td>\n",
       "      <td>146</td>\n",
       "      <td>71</td>\n",
       "    </tr>\n",
       "    <tr>\n",
       "      <th>Folk</th>\n",
       "      <td>531</td>\n",
       "      <td>291</td>\n",
       "      <td>119</td>\n",
       "      <td>59</td>\n",
       "    </tr>\n",
       "    <tr>\n",
       "      <th>Hip-Hop</th>\n",
       "      <td>91</td>\n",
       "      <td>494</td>\n",
       "      <td>268</td>\n",
       "      <td>147</td>\n",
       "    </tr>\n",
       "    <tr>\n",
       "      <th>Instrumental</th>\n",
       "      <td>0</td>\n",
       "      <td>187</td>\n",
       "      <td>391</td>\n",
       "      <td>422</td>\n",
       "    </tr>\n",
       "    <tr>\n",
       "      <th>International</th>\n",
       "      <td>381</td>\n",
       "      <td>261</td>\n",
       "      <td>194</td>\n",
       "      <td>164</td>\n",
       "    </tr>\n",
       "    <tr>\n",
       "      <th>Pop</th>\n",
       "      <td>503</td>\n",
       "      <td>294</td>\n",
       "      <td>137</td>\n",
       "      <td>66</td>\n",
       "    </tr>\n",
       "    <tr>\n",
       "      <th>Rock</th>\n",
       "      <td>1</td>\n",
       "      <td>168</td>\n",
       "      <td>559</td>\n",
       "      <td>272</td>\n",
       "    </tr>\n",
       "  </tbody>\n",
       "</table>\n",
       "</div>"
      ],
      "text/plain": [
       "listens_bins       1    2    3    4\n",
       "track_genre_top                    \n",
       "Electronic         0    2  239  759\n",
       "Experimental     426  357  146   71\n",
       "Folk             531  291  119   59\n",
       "Hip-Hop           91  494  268  147\n",
       "Instrumental       0  187  391  422\n",
       "International    381  261  194  164\n",
       "Pop              503  294  137   66\n",
       "Rock               1  168  559  272"
      ]
     },
     "execution_count": 15,
     "metadata": {},
     "output_type": "execute_result"
    }
   ],
   "source": [
    "# check bins against genre for baseline model\n",
    "\n",
    "pd.crosstab(df_final['track_genre_top'],df_final['listens_bins'])"
   ]
  },
  {
   "cell_type": "code",
   "execution_count": 16,
   "metadata": {},
   "outputs": [
    {
     "name": "stdout",
     "output_type": "stream",
     "text": [
      "object\n"
     ]
    }
   ],
   "source": [
    "# genre = category\n",
    "\n",
    "print(df_final['track_genre_top'].dtype)\n",
    "df_final['track_genre_top'] = df_final['track_genre_top'].astype('category')"
   ]
  },
  {
   "cell_type": "code",
   "execution_count": 17,
   "metadata": {},
   "outputs": [],
   "source": [
    "# Baseline model genre mapping, create prediction variable\n",
    "\n",
    "genre_mapping = {\n",
    "    'Rock': 4,\n",
    "    'Pop': 1,\n",
    "    'Folk': 1,\n",
    "    'Hip-Hop': 4,\n",
    "    'Instrumental': 4,\n",
    "    'Electronic': 4,\n",
    "    'Experimental': 1,\n",
    "    'International': 1}\n",
    "\n",
    "\n",
    "df_final['genre_pred'] = df_final['track_genre_top'].replace(genre_mapping)"
   ]
  },
  {
   "cell_type": "code",
   "execution_count": 18,
   "metadata": {},
   "outputs": [],
   "source": [
    "df_final['genre_pred'] = df_final['genre_pred'].astype('int')"
   ]
  },
  {
   "cell_type": "code",
   "execution_count": 19,
   "metadata": {},
   "outputs": [
    {
     "data": {
      "text/html": [
       "<div>\n",
       "<style scoped>\n",
       "    .dataframe tbody tr th:only-of-type {\n",
       "        vertical-align: middle;\n",
       "    }\n",
       "\n",
       "    .dataframe tbody tr th {\n",
       "        vertical-align: top;\n",
       "    }\n",
       "\n",
       "    .dataframe thead th {\n",
       "        text-align: right;\n",
       "    }\n",
       "</style>\n",
       "<table border=\"1\" class=\"dataframe\">\n",
       "  <thead>\n",
       "    <tr style=\"text-align: right;\">\n",
       "      <th>genre_pred</th>\n",
       "      <th>1</th>\n",
       "      <th>4</th>\n",
       "    </tr>\n",
       "    <tr>\n",
       "      <th>listens_bins</th>\n",
       "      <th></th>\n",
       "      <th></th>\n",
       "    </tr>\n",
       "  </thead>\n",
       "  <tbody>\n",
       "    <tr>\n",
       "      <th>1</th>\n",
       "      <td>1841</td>\n",
       "      <td>92</td>\n",
       "    </tr>\n",
       "    <tr>\n",
       "      <th>2</th>\n",
       "      <td>1203</td>\n",
       "      <td>851</td>\n",
       "    </tr>\n",
       "    <tr>\n",
       "      <th>3</th>\n",
       "      <td>596</td>\n",
       "      <td>1457</td>\n",
       "    </tr>\n",
       "    <tr>\n",
       "      <th>4</th>\n",
       "      <td>360</td>\n",
       "      <td>1600</td>\n",
       "    </tr>\n",
       "  </tbody>\n",
       "</table>\n",
       "</div>"
      ],
      "text/plain": [
       "genre_pred       1     4\n",
       "listens_bins            \n",
       "1             1841    92\n",
       "2             1203   851\n",
       "3              596  1457\n",
       "4              360  1600"
      ]
     },
     "execution_count": 19,
     "metadata": {},
     "output_type": "execute_result"
    }
   ],
   "source": [
    "pd.crosstab(df_final['listens_bins'],df_final['genre_pred'])"
   ]
  },
  {
   "cell_type": "code",
   "execution_count": 20,
   "metadata": {},
   "outputs": [
    {
     "name": "stdout",
     "output_type": "stream",
     "text": [
      "43.0\n",
      "33.2\n",
      "18.1\n",
      "5.6\n",
      "--------------------------------\n",
      "0.424\n"
     ]
    }
   ],
   "source": [
    "# performance basemodel, correct classes and cohen's kappa\n",
    "\n",
    "from sklearn.metrics import confusion_matrix, classification_report, cohen_kappa_score\n",
    "\n",
    "y_pred = df_final['genre_pred']\n",
    "y_true = df_final['listens_bins']\n",
    "\n",
    "\n",
    "conf_matrix= confusion_matrix(y_true, y_pred)\n",
    "accurate_classes = sum([conf_matrix[i][i] for i in range(len(conf_matrix))])\n",
    "off_by_one = sum([conf_matrix[i][j] if abs(i - j) == 1 else 0 for i in range(len(conf_matrix)) for j in range(len(conf_matrix))])\n",
    "off_by_two = sum([conf_matrix[i][j] if abs(i - j) == 2 else 0 for i in range(len(conf_matrix)) for j in range(len(conf_matrix))])\n",
    "off_by_three = sum([conf_matrix[i][j] if abs(i - j) == 3 else 0 for i in range(len(conf_matrix)) for j in range(len(conf_matrix))])\n",
    "#off_by_four = sum([conf_matrix[i][j] if abs(i - j) == 4 else 0 for i in range(len(conf_matrix)) for j in range(len(conf_matrix))])\n",
    "\n",
    "print((100*accurate_classes/conf_matrix.sum()).round(1))\n",
    "print((100*off_by_one/conf_matrix.sum()).round(1))\n",
    "print((100*off_by_two/conf_matrix.sum()).round(1))\n",
    "print((100*off_by_three/conf_matrix.sum()).round(1))\n",
    "#print((100*off_by_four/conf_matrix.sum()).round(1))\n",
    "print('--------------------------------')\n",
    "print(cohen_kappa_score(y_true, y_pred,weights='linear').round(3))"
   ]
  },
  {
   "cell_type": "code",
   "execution_count": 21,
   "metadata": {},
   "outputs": [
    {
     "data": {
      "image/png": "[encoded data removed]",
      "text/plain": [
       "<Figure size 800x600 with 1 Axes>"
      ]
     },
     "metadata": {},
     "output_type": "display_data"
    }
   ],
   "source": [
    "# Plot of performance\n",
    "\n",
    "import matplotlib.pyplot as plt\n",
    "\n",
    "labels = ['Accurate class', 'Off by one', 'Off by two','Off by three']\n",
    "sizes = [accurate_classes, off_by_one, off_by_two,off_by_three]\n",
    "\n",
    "# Set the style parameters\n",
    "plt.rcParams['axes.facecolor'] = '#fffaeb'  # Background color\n",
    "plt.rcParams['figure.facecolor'] = '#fffaeb'  # Background color\n",
    "plt.rcParams['font.family'] = 'sans-serif'  # Font family\n",
    "\n",
    "colors = plt.cm.YlGnBu([0.7, 0.5, 0.3, 0.2])\n",
    "\n",
    "colors = plt.cm.YlGnBu([0.7, 0.5, 0.3, 0.2])\n",
    "plt.figure(figsize=(8, 6))\n",
    "plt.pie(sizes, labels=labels, colors=colors, autopct='%1.1f%%', textprops={'fontsize': 14,'fontweight':'bold'})\n",
    "plt.title('Prediction of classes', fontsize=16, fontweight='bold', y=1.08)  \n",
    "plt.axis('equal') \n",
    "plt.show()"
   ]
  },
  {
   "cell_type": "code",
   "execution_count": 97,
   "metadata": {},
   "outputs": [],
   "source": [
    "df_final.to_csv('data/data_with_target.csv', index=False)"
   ]
  }
 ],
 "metadata": {
  "kernelspec": {
   "display_name": ".venv",
   "language": "python",
   "name": "python3"
  },
  "language_info": {
   "codemirror_mode": {
    "name": "ipython",
    "version": 3
   },
   "file_extension": ".py",
   "mimetype": "text/x-python",
   "name": "python",
   "nbconvert_exporter": "python",
   "pygments_lexer": "ipython3",
   "version": "3.11.3"
  }
 },
 "nbformat": 4,
 "nbformat_minor": 2
}
